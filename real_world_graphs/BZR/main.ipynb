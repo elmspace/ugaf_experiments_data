{
 "cells": [
  {
   "cell_type": "code",
   "execution_count": 1,
   "id": "55deb8a2-3326-4e98-bcc2-66392c59caa6",
   "metadata": {},
   "outputs": [],
   "source": [
    "import pandas as pd"
   ]
  },
  {
   "cell_type": "markdown",
   "id": "59225a67-d17d-46d4-ad28-3a7d3f8185af",
   "metadata": {},
   "source": [
    "## Create Edge CSV File"
   ]
  },
  {
   "cell_type": "code",
   "execution_count": 2,
   "id": "fc1a3320-85ee-4d26-b0a1-6e4c07e47499",
   "metadata": {},
   "outputs": [],
   "source": [
    "with open(\"./raw_data/BZR_A.txt\") as edge_file:\n",
    "    edges = edge_file.readlines()"
   ]
  },
  {
   "cell_type": "code",
   "execution_count": 3,
   "id": "0674a65f-c193-4423-bea2-142917f28f7f",
   "metadata": {},
   "outputs": [
    {
     "name": "stdout",
     "output_type": "stream",
     "text": [
      "   node_a  node_b\n",
      "0       1       0\n",
      "1       5       0\n",
      "2      19       0\n"
     ]
    }
   ],
   "source": [
    "node_a = []\n",
    "node_b = []\n",
    "for i in edges:\n",
    "    node_a.append(i.split(\",\")[0].strip())\n",
    "    node_b.append(i.split(\",\")[1].strip())\n",
    "\n",
    "edge_csv = pd.DataFrame()\n",
    "edge_csv[\"node_a\"] = node_a\n",
    "edge_csv[\"node_b\"] = node_b\n",
    "edge_csv[\"node_a\"] = edge_csv[\"node_a\"].astype(int)\n",
    "edge_csv[\"node_b\"] = edge_csv[\"node_b\"].astype(int)\n",
    "edge_csv[\"node_a\"] -= 1\n",
    "edge_csv[\"node_b\"] -= 1\n",
    "\n",
    "print(edge_csv.head(3))\n"
   ]
  },
  {
   "cell_type": "code",
   "execution_count": 4,
   "id": "eb195a10-e80e-4112-8d1f-ebee4143cbc5",
   "metadata": {},
   "outputs": [],
   "source": [
    "edge_csv.to_csv(\"./processed_data/edge_file.csv\", index=False)"
   ]
  },
  {
   "cell_type": "markdown",
   "id": "96ad6b88-8a2c-403d-b67d-e4f4dc517e2c",
   "metadata": {},
   "source": [
    "# Create Node to Graph Mapping"
   ]
  },
  {
   "cell_type": "code",
   "execution_count": 5,
   "id": "fb51eb92-b6dc-4599-a65f-f5a47a3d1816",
   "metadata": {},
   "outputs": [
    {
     "name": "stdout",
     "output_type": "stream",
     "text": [
      "   node_id  graph_id\n",
      "0        0         0\n",
      "1        1         0\n",
      "2        2         0\n"
     ]
    }
   ],
   "source": [
    "with open(\"./raw_data/BZR_graph_indicator.txt\") as read_file:\n",
    "    graph_ids = read_file.readlines()\n",
    "\n",
    "graph_ids = [i.strip() for i in graph_ids]\n",
    "node_ids = [str(i) for i in range(len(graph_ids))]\n",
    "\n",
    "node_graph_df = pd.DataFrame()\n",
    "node_graph_df[\"node_id\"] = node_ids\n",
    "node_graph_df[\"graph_id\"] = graph_ids\n",
    "\n",
    "node_graph_df[\"node_id\"] = node_graph_df[\"node_id\"].astype(int)\n",
    "node_graph_df[\"graph_id\"] = node_graph_df[\"graph_id\"].astype(int)\n",
    "node_graph_df[\"graph_id\"] -= 1\n",
    "\n",
    "print(node_graph_df.head(3))\n",
    "\n",
    "node_graph_df.to_csv(\"./processed_data/node_graph_mapping_file.csv\", index=False)"
   ]
  },
  {
   "cell_type": "markdown",
   "id": "ff56112f-17c9-4c39-a2fa-fb5bc138913a",
   "metadata": {},
   "source": [
    "# Graph IDs"
   ]
  },
  {
   "cell_type": "code",
   "execution_count": 6,
   "id": "58b96147-ce68-4abe-a3f3-b773e2c2d157",
   "metadata": {},
   "outputs": [],
   "source": [
    "with open(\"./raw_data/BZR_graph_labels.txt\") as read_file:\n",
    "    graph_labels = read_file.readlines()\n",
    "\n",
    "graph_labels = [int(i) for i in graph_labels]\n",
    "graph_ids = list(range(len(graph_labels)))\n",
    "\n",
    "df = pd.DataFrame()\n",
    "df[\"graph_id\"] = graph_ids\n",
    "df[\"graph_label\"] = graph_labels\n",
    "\n",
    "df.to_csv(\"./processed_data/graph_label_mapping_file.csv\", index=False)"
   ]
  },
  {
   "cell_type": "markdown",
   "id": "79e37383-98d3-49ea-aa05-999ebdf9caf6",
   "metadata": {},
   "source": [
    "# Node Features"
   ]
  },
  {
   "cell_type": "code",
   "execution_count": 7,
   "id": "df92d14a-1864-45ef-b957-c8a1b3aa9c57",
   "metadata": {},
   "outputs": [],
   "source": [
    "with open(\"./raw_data/BZR_node_attributes.txt\") as read_file:\n",
    "    node_features = read_file.readlines()"
   ]
  },
  {
   "cell_type": "code",
   "execution_count": 8,
   "id": "c41f92a4-8d1c-43f3-b3df-460efac16f53",
   "metadata": {},
   "outputs": [],
   "source": [
    "feature_df = []\n",
    "for idx, feature in enumerate(node_features):\n",
    "    feature_list = [float(i.strip()) for i in feature.split(\",\")]\n",
    "    feature_df.append(feature_list)\n",
    "feature_df = pd.DataFrame(feature_df)\n",
    "feature_df.columns = [\"node_feat_\"+str(i) for i in range(feature_df.shape[1])]\n",
    "feature_df.insert(0, \"node_id\", list(range(len(node_features))))\n",
    "\n",
    "feature_df.to_csv(\"./processed_data/node_feature_file.csv\", index=False)"
   ]
  },
  {
   "cell_type": "code",
   "execution_count": 9,
   "id": "59638c28-4596-46d8-bc34-3d01af518285",
   "metadata": {},
   "outputs": [
    {
     "data": {
      "text/html": [
       "<div>\n",
       "<style scoped>\n",
       "    .dataframe tbody tr th:only-of-type {\n",
       "        vertical-align: middle;\n",
       "    }\n",
       "\n",
       "    .dataframe tbody tr th {\n",
       "        vertical-align: top;\n",
       "    }\n",
       "\n",
       "    .dataframe thead th {\n",
       "        text-align: right;\n",
       "    }\n",
       "</style>\n",
       "<table border=\"1\" class=\"dataframe\">\n",
       "  <thead>\n",
       "    <tr style=\"text-align: right;\">\n",
       "      <th></th>\n",
       "      <th>node_id</th>\n",
       "      <th>node_feat_0</th>\n",
       "      <th>node_feat_1</th>\n",
       "      <th>node_feat_2</th>\n",
       "    </tr>\n",
       "  </thead>\n",
       "  <tbody>\n",
       "    <tr>\n",
       "      <th>0</th>\n",
       "      <td>0</td>\n",
       "      <td>-2.626347</td>\n",
       "      <td>2.492403</td>\n",
       "      <td>0.061623</td>\n",
       "    </tr>\n",
       "    <tr>\n",
       "      <th>1</th>\n",
       "      <td>1</td>\n",
       "      <td>-2.852647</td>\n",
       "      <td>1.135103</td>\n",
       "      <td>0.232223</td>\n",
       "    </tr>\n",
       "    <tr>\n",
       "      <th>2</th>\n",
       "      <td>2</td>\n",
       "      <td>-1.797347</td>\n",
       "      <td>0.253903</td>\n",
       "      <td>0.431023</td>\n",
       "    </tr>\n",
       "    <tr>\n",
       "      <th>3</th>\n",
       "      <td>3</td>\n",
       "      <td>-0.478447</td>\n",
       "      <td>0.736203</td>\n",
       "      <td>0.471223</td>\n",
       "    </tr>\n",
       "    <tr>\n",
       "      <th>4</th>\n",
       "      <td>4</td>\n",
       "      <td>-0.243547</td>\n",
       "      <td>2.120703</td>\n",
       "      <td>0.374723</td>\n",
       "    </tr>\n",
       "    <tr>\n",
       "      <th>...</th>\n",
       "      <td>...</td>\n",
       "      <td>...</td>\n",
       "      <td>...</td>\n",
       "      <td>...</td>\n",
       "    </tr>\n",
       "    <tr>\n",
       "      <th>14474</th>\n",
       "      <td>14474</td>\n",
       "      <td>-0.270832</td>\n",
       "      <td>-4.210352</td>\n",
       "      <td>0.091381</td>\n",
       "    </tr>\n",
       "    <tr>\n",
       "      <th>14475</th>\n",
       "      <td>14475</td>\n",
       "      <td>2.460768</td>\n",
       "      <td>-4.756452</td>\n",
       "      <td>0.279081</td>\n",
       "    </tr>\n",
       "    <tr>\n",
       "      <th>14476</th>\n",
       "      <td>14476</td>\n",
       "      <td>4.678068</td>\n",
       "      <td>-3.632152</td>\n",
       "      <td>0.391181</td>\n",
       "    </tr>\n",
       "    <tr>\n",
       "      <th>14477</th>\n",
       "      <td>14477</td>\n",
       "      <td>4.840868</td>\n",
       "      <td>-1.167952</td>\n",
       "      <td>0.338481</td>\n",
       "    </tr>\n",
       "    <tr>\n",
       "      <th>14478</th>\n",
       "      <td>14478</td>\n",
       "      <td>2.822868</td>\n",
       "      <td>0.229248</td>\n",
       "      <td>0.174481</td>\n",
       "    </tr>\n",
       "  </tbody>\n",
       "</table>\n",
       "<p>14479 rows × 4 columns</p>\n",
       "</div>"
      ],
      "text/plain": [
       "       node_id  node_feat_0  node_feat_1  node_feat_2\n",
       "0            0    -2.626347     2.492403     0.061623\n",
       "1            1    -2.852647     1.135103     0.232223\n",
       "2            2    -1.797347     0.253903     0.431023\n",
       "3            3    -0.478447     0.736203     0.471223\n",
       "4            4    -0.243547     2.120703     0.374723\n",
       "...        ...          ...          ...          ...\n",
       "14474    14474    -0.270832    -4.210352     0.091381\n",
       "14475    14475     2.460768    -4.756452     0.279081\n",
       "14476    14476     4.678068    -3.632152     0.391181\n",
       "14477    14477     4.840868    -1.167952     0.338481\n",
       "14478    14478     2.822868     0.229248     0.174481\n",
       "\n",
       "[14479 rows x 4 columns]"
      ]
     },
     "execution_count": 9,
     "metadata": {},
     "output_type": "execute_result"
    }
   ],
   "source": [
    "feature_df"
   ]
  },
  {
   "cell_type": "code",
   "execution_count": null,
   "id": "49aa6aca-9c4e-41f8-bda2-43c3f153ddef",
   "metadata": {},
   "outputs": [],
   "source": []
  }
 ],
 "metadata": {
  "kernelspec": {
   "display_name": "Python 3 (ipykernel)",
   "language": "python",
   "name": "python3"
  },
  "language_info": {
   "codemirror_mode": {
    "name": "ipython",
    "version": 3
   },
   "file_extension": ".py",
   "mimetype": "text/x-python",
   "name": "python",
   "nbconvert_exporter": "python",
   "pygments_lexer": "ipython3",
   "version": "3.11.5"
  }
 },
 "nbformat": 4,
 "nbformat_minor": 5
}
