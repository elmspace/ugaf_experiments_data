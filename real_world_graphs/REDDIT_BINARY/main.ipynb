{
 "cells": [
  {
   "cell_type": "code",
   "execution_count": 1,
   "id": "55deb8a2-3326-4e98-bcc2-66392c59caa6",
   "metadata": {},
   "outputs": [],
   "source": [
    "import pandas as pd"
   ]
  },
  {
   "cell_type": "markdown",
   "id": "59225a67-d17d-46d4-ad28-3a7d3f8185af",
   "metadata": {},
   "source": [
    "## Create Edge CSV File"
   ]
  },
  {
   "cell_type": "code",
   "execution_count": 2,
   "id": "fc1a3320-85ee-4d26-b0a1-6e4c07e47499",
   "metadata": {},
   "outputs": [],
   "source": [
    "with open(\"./raw_data/REDDIT-BINARY_A.txt\") as edge_file:\n",
    "    edges = edge_file.readlines()"
   ]
  },
  {
   "cell_type": "code",
   "execution_count": 3,
   "id": "0674a65f-c193-4423-bea2-142917f28f7f",
   "metadata": {},
   "outputs": [
    {
     "name": "stdout",
     "output_type": "stream",
     "text": [
      "   node_a  node_b\n",
      "0       0     167\n",
      "1     167       0\n",
      "2       1      57\n"
     ]
    }
   ],
   "source": [
    "node_a = []\n",
    "node_b = []\n",
    "for i in edges:\n",
    "    node_a.append(i.split(\",\")[0].strip())\n",
    "    node_b.append(i.split(\",\")[1].strip())\n",
    "\n",
    "edge_csv = pd.DataFrame()\n",
    "edge_csv[\"node_a\"] = node_a\n",
    "edge_csv[\"node_b\"] = node_b\n",
    "edge_csv[\"node_a\"] = edge_csv[\"node_a\"].astype(int)\n",
    "edge_csv[\"node_b\"] = edge_csv[\"node_b\"].astype(int)\n",
    "edge_csv[\"node_a\"] -= 1\n",
    "edge_csv[\"node_b\"] -= 1\n",
    "\n",
    "print(edge_csv.head(3))\n"
   ]
  },
  {
   "cell_type": "code",
   "execution_count": 4,
   "id": "eb195a10-e80e-4112-8d1f-ebee4143cbc5",
   "metadata": {},
   "outputs": [],
   "source": [
    "edge_csv.to_csv(\"./processed_data/edge_file.csv\", index=False)"
   ]
  },
  {
   "cell_type": "markdown",
   "id": "96ad6b88-8a2c-403d-b67d-e4f4dc517e2c",
   "metadata": {},
   "source": [
    "# Create Node to Graph Mapping"
   ]
  },
  {
   "cell_type": "code",
   "execution_count": 5,
   "id": "fb51eb92-b6dc-4599-a65f-f5a47a3d1816",
   "metadata": {},
   "outputs": [
    {
     "name": "stdout",
     "output_type": "stream",
     "text": [
      "   node_id  graph_id\n",
      "0        0         0\n",
      "1        1         0\n",
      "2        2         0\n"
     ]
    }
   ],
   "source": [
    "with open(\"./raw_data/REDDIT-BINARY_graph_indicator.txt\") as read_file:\n",
    "    graph_ids = read_file.readlines()\n",
    "\n",
    "graph_ids = [i.strip() for i in graph_ids]\n",
    "node_ids = [str(i) for i in range(len(graph_ids))]\n",
    "\n",
    "node_graph_df = pd.DataFrame()\n",
    "node_graph_df[\"node_id\"] = node_ids\n",
    "node_graph_df[\"graph_id\"] = graph_ids\n",
    "\n",
    "node_graph_df[\"node_id\"] = node_graph_df[\"node_id\"].astype(int)\n",
    "node_graph_df[\"graph_id\"] = node_graph_df[\"graph_id\"].astype(int)\n",
    "node_graph_df[\"graph_id\"] -= 1\n",
    "\n",
    "print(node_graph_df.head(3))\n",
    "\n",
    "node_graph_df.to_csv(\"./processed_data/node_graph_mapping_file.csv\", index=False)"
   ]
  },
  {
   "cell_type": "markdown",
   "id": "ff56112f-17c9-4c39-a2fa-fb5bc138913a",
   "metadata": {},
   "source": [
    "# Graph IDs"
   ]
  },
  {
   "cell_type": "code",
   "execution_count": 6,
   "id": "58b96147-ce68-4abe-a3f3-b773e2c2d157",
   "metadata": {},
   "outputs": [],
   "source": [
    "with open(\"./raw_data/REDDIT-BINARY_graph_labels.txt\") as read_file:\n",
    "    graph_labels = read_file.readlines()\n",
    "\n",
    "graph_labels = [int(i) for i in graph_labels]\n",
    "graph_ids = list(range(len(graph_labels)))\n",
    "\n",
    "df = pd.DataFrame()\n",
    "df[\"graph_id\"] = graph_ids\n",
    "df[\"graph_label\"] = graph_labels\n",
    "\n",
    "df.to_csv(\"./processed_data/graph_label_mapping_file.csv\", index=False)"
   ]
  },
  {
   "cell_type": "code",
   "execution_count": null,
   "id": "59638c28-4596-46d8-bc34-3d01af518285",
   "metadata": {},
   "outputs": [],
   "source": []
  }
 ],
 "metadata": {
  "kernelspec": {
   "display_name": "Python 3 (ipykernel)",
   "language": "python",
   "name": "python3"
  },
  "language_info": {
   "codemirror_mode": {
    "name": "ipython",
    "version": 3
   },
   "file_extension": ".py",
   "mimetype": "text/x-python",
   "name": "python",
   "nbconvert_exporter": "python",
   "pygments_lexer": "ipython3",
   "version": "3.11.5"
  }
 },
 "nbformat": 4,
 "nbformat_minor": 5
}
